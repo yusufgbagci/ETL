{
 "cells": [
  {
   "cell_type": "code",
   "execution_count": null,
   "id": "d3c7229f-dea8-4d28-94d9-9c96338d7af6",
   "metadata": {},
   "outputs": [],
   "source": [
    "import glob\n",
    "import pandas as pd\n",
    "from datetime import datetime"
   ]
  },
  {
   "cell_type": "code",
   "execution_count": null,
   "id": "b9773f21-5d2d-43d9-b2c8-dd3b644a9935",
   "metadata": {},
   "outputs": [],
   "source": [
    "!wget https://cf-courses-data.s3.us.cloud-object-storage.appdomain.cloud/IBMDeveloperSkillsNetwork-PY0221EN-SkillsNetwork/labs/module%206/Lab%20-%20Extract%20Transform%20Load/data/bank_market_cap_1.json\n",
    "!wget https://cf-courses-data.s3.us.cloud-object-storage.appdomain.cloud/IBMDeveloperSkillsNetwork-PY0221EN-SkillsNetwork/labs/module%206/Lab%20-%20Extract%20Transform%20Load/data/bank_market_cap_2.json\n",
    "!wget https://cf-courses-data.s3.us.cloud-object-storage.appdomain.cloud/IBMDeveloperSkillsNetwork-PY0221EN-SkillsNetwork/labs/module%206/Final%20Assignment/exchange_rates.csv"
   ]
  },
  {
   "cell_type": "code",
   "execution_count": null,
   "id": "887629f2-3286-4c53-88dc-4c630820fbbf",
   "metadata": {},
   "outputs": [],
   "source": [
    "def extract_from_json(file_to_process):\n",
    "    dataframe = pd.read_json(file_to_process)\n",
    "    return dataframe"
   ]
  },
  {
   "cell_type": "code",
   "execution_count": null,
   "id": "f1213a36-870d-4488-8278-f8f858793ecc",
   "metadata": {},
   "outputs": [],
   "source": [
    "columns=['Name','Market Cap (US$ Billion)']\n",
    "def extract():\n",
    "    extracted_data = pd.DataFrame(columns = columns)\n",
    "    for json in glob.glob(\"bank_market_cap_1.json\"):\n",
    "        extracted_data = extracted_data.append(extract_from_json(json), ignore_index=True)\n",
    "    return extracted_data"
   ]
  },
  {
   "cell_type": "code",
   "execution_count": null,
   "id": "dde59108-7ce6-48ef-93ff-31e65bf3e51b",
   "metadata": {},
   "outputs": [],
   "source": [
    "df = pd.read_csv(\"exchange_rates.csv\",index_col=False,names = [\"Currency\",\"Rates\"],header= None,skiprows = 1)\n",
    "GBP = df.index[df[\"Currency\"] == \"GBP\"].tolist()\n",
    "rateGBP = df[\"Rates\"][GBP].tolist()\n",
    "rateGBP"
   ]
  },
  {
   "cell_type": "code",
   "execution_count": null,
   "id": "039f622f-6aaf-47ba-a005-11893e1a2d20",
   "metadata": {},
   "outputs": [],
   "source": [
    "def transform(data):\n",
    "    # Write your code here\n",
    "    data[\"Market Cap (US$ Billion)\"]  = data[\"Market Cap (US$ Billion)\"] * rateGBP\n",
    "    data[\"Market Cap (US$ Billion)\"] = data[\"Market Cap (US$ Billion)\"].round(3)\n",
    "    data.rename(columns={\"Market Cap (US$ Billion)\": \"Market Cap (GBP$ Billion)\"}, inplace = True)\n",
    "    return data"
   ]
  },
  {
   "cell_type": "code",
   "execution_count": null,
   "id": "b6a690ef-729b-4c71-8c8f-8f83fe468e35",
   "metadata": {},
   "outputs": [],
   "source": [
    "def load(data):\n",
    "    data.to_csv('bank_market_cap_gbp.csv', index=False)\n",
    "     with open(\"logfile.txt\",\"a\") as f:\n",
    "        f.write(timestamp + ',' + message + '\\n')"
   ]
  },
  {
   "cell_type": "code",
   "execution_count": null,
   "id": "ec48e896-a1d4-49b8-bb89-8ace8164619b",
   "metadata": {},
   "outputs": [],
   "source": [
    "def log(data):\n",
    "    timestamp_format = '%Y-%h-%d-%H:%M:%S'\n",
    "    now = datetime.now()\n",
    "     timestamp = now.strftime(timestamp_format)"
   ]
  },
  {
   "cell_type": "code",
   "execution_count": null,
   "id": "e8cf39f1-3dc6-48af-ba53-a4fb5e5a6db9",
   "metadata": {},
   "outputs": [],
   "source": [
    "log(\"ETL Job Started\")\n",
    "log(\"Extract phase Started\")\n",
    "extracted_data = extract()\n",
    "extracted_data.head(5)\n",
    "log(\"Extract phase Ended\")"
   ]
  },
  {
   "cell_type": "code",
   "execution_count": null,
   "id": "3249e9e2-7324-4ebb-a9fe-a514861c60d9",
   "metadata": {},
   "outputs": [],
   "source": [
    "log(\"Transform phase Started\")\n",
    "transform_data = transform(extracted_data)\n",
    "transform_data.head(5)\n",
    "log(\"Transform phase Ended\")"
   ]
  },
  {
   "cell_type": "code",
   "execution_count": null,
   "id": "456d5019-2ff5-4a37-a2d7-1abe4f404b79",
   "metadata": {},
   "outputs": [],
   "source": [
    "log(\"Load phase Started\")\n",
    "load(transform_data)\n",
    "log(\"Load phase Ended\")"
   ]
  }
 ],
 "metadata": {
  "kernelspec": {
   "display_name": "Python 3",
   "language": "python",
   "name": "python3"
  },
  "language_info": {
   "codemirror_mode": {
    "name": "ipython",
    "version": 3
   },
   "file_extension": ".py",
   "mimetype": "text/x-python",
   "name": "python",
   "nbconvert_exporter": "python",
   "pygments_lexer": "ipython3",
   "version": "3.8.8"
  }
 },
 "nbformat": 4,
 "nbformat_minor": 5
}
